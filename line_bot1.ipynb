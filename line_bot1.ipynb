{
 "cells": [
  {
   "cell_type": "code",
   "execution_count": 2,
   "metadata": {
    "colab": {
     "base_uri": "https://localhost:8080/"
    },
    "id": "j248F1WLu--I",
    "outputId": "35f52c81-fcaf-46e6-9b11-09ef8e5570ad"
   },
   "outputs": [
    {
     "name": "stdout",
     "output_type": "stream",
     "text": [
      "Requirement already satisfied: line-bot-sdk in c:\\users\\tasat\\appdata\\local\\programs\\python\\python310\\lib\\site-packages (2.1.0)\n",
      "Requirement already satisfied: future in c:\\users\\tasat\\appdata\\local\\programs\\python\\python310\\lib\\site-packages (from line-bot-sdk) (0.18.2)\n",
      "Requirement already satisfied: requests>=2.0 in c:\\users\\tasat\\appdata\\local\\programs\\python\\python310\\lib\\site-packages (from line-bot-sdk) (2.27.1)\n",
      "Requirement already satisfied: aiohttp>=3.7.4 in c:\\users\\tasat\\appdata\\local\\programs\\python\\python310\\lib\\site-packages (from line-bot-sdk) (3.8.1)\n",
      "Requirement already satisfied: attrs>=17.3.0 in c:\\users\\tasat\\appdata\\local\\programs\\python\\python310\\lib\\site-packages (from aiohttp>=3.7.4->line-bot-sdk) (21.4.0)\n",
      "Requirement already satisfied: multidict<7.0,>=4.5 in c:\\users\\tasat\\appdata\\local\\programs\\python\\python310\\lib\\site-packages (from aiohttp>=3.7.4->line-bot-sdk) (6.0.2)\n",
      "Requirement already satisfied: frozenlist>=1.1.1 in c:\\users\\tasat\\appdata\\local\\programs\\python\\python310\\lib\\site-packages (from aiohttp>=3.7.4->line-bot-sdk) (1.3.0)\n",
      "Requirement already satisfied: aiosignal>=1.1.2 in c:\\users\\tasat\\appdata\\local\\programs\\python\\python310\\lib\\site-packages (from aiohttp>=3.7.4->line-bot-sdk) (1.2.0)\n",
      "Requirement already satisfied: charset-normalizer<3.0,>=2.0 in c:\\users\\tasat\\appdata\\local\\programs\\python\\python310\\lib\\site-packages (from aiohttp>=3.7.4->line-bot-sdk) (2.0.12)\n",
      "Requirement already satisfied: yarl<2.0,>=1.0 in c:\\users\\tasat\\appdata\\local\\programs\\python\\python310\\lib\\site-packages (from aiohttp>=3.7.4->line-bot-sdk) (1.7.2)\n",
      "Requirement already satisfied: async-timeout<5.0,>=4.0.0a3 in c:\\users\\tasat\\appdata\\local\\programs\\python\\python310\\lib\\site-packages (from aiohttp>=3.7.4->line-bot-sdk) (4.0.2)\n",
      "Requirement already satisfied: certifi>=2017.4.17 in c:\\users\\tasat\\appdata\\local\\programs\\python\\python310\\lib\\site-packages (from requests>=2.0->line-bot-sdk) (2021.10.8)\n",
      "Requirement already satisfied: urllib3<1.27,>=1.21.1 in c:\\users\\tasat\\appdata\\local\\programs\\python\\python310\\lib\\site-packages (from requests>=2.0->line-bot-sdk) (1.26.8)\n",
      "Requirement already satisfied: idna<4,>=2.5 in c:\\users\\tasat\\appdata\\local\\programs\\python\\python310\\lib\\site-packages (from requests>=2.0->line-bot-sdk) (3.3)\n"
     ]
    }
   ],
   "source": [
    "!pip install line-bot-sdk"
   ]
  },
  {
   "cell_type": "code",
   "execution_count": 3,
   "metadata": {
    "id": "ydDC1W24xOBz"
   },
   "outputs": [],
   "source": [
    "from linebot import LineBotApi\n",
    "from linebot.models import TextSendMessage"
   ]
  },
  {
   "cell_type": "code",
   "execution_count": 1,
   "metadata": {
    "colab": {
     "base_uri": "https://localhost:8080/"
    },
    "id": "Oy-l7R4j6ers",
    "outputId": "e754fd09-29ce-4269-8c82-6bc32b8325c3"
   },
   "outputs": [
    {
     "name": "stdout",
     "output_type": "stream",
     "text": [
      " ドライブ C のボリューム ラベルは Windows です\n",
      " ボリューム シリアル番号は 0CB1-0C7C です\n",
      "\n",
      " C:\\Users\\tasat\\line_bot1 のディレクトリ\n",
      "\n",
      "2022/04/21  23:00    <DIR>          .\n",
      "2022/04/21  23:21    <DIR>          ..\n",
      "2022/04/21  22:58    <DIR>          .ipynb_checkpoints\n",
      "2022/03/13  12:53               263 info.json\n",
      "2022/04/21  23:00            10,076 line_bot1.ipynb\n",
      "               2 個のファイル              10,339 バイト\n",
      "               3 個のディレクトリ  70,729,764,864 バイトの空き領域\n"
     ]
    }
   ],
   "source": [
    "ls"
   ]
  },
  {
   "cell_type": "code",
   "execution_count": 5,
   "metadata": {
    "id": "yIv3WlHj4e2k"
   },
   "outputs": [],
   "source": [
    "import json"
   ]
  },
  {
   "cell_type": "code",
   "execution_count": 6,
   "metadata": {
    "id": "dQXwENDR4nT2"
   },
   "outputs": [],
   "source": [
    "file = open('info.json' , 'r')\n",
    "info = json.load(file)"
   ]
  },
  {
   "cell_type": "code",
   "execution_count": 7,
   "metadata": {
    "colab": {
     "base_uri": "https://localhost:8080/",
     "height": 53
    },
    "id": "kOhwQ0NG8RxM",
    "outputId": "444febca-cc60-430e-9b27-16882ce313ff"
   },
   "outputs": [
    {
     "data": {
      "text/plain": [
       "'kOVMa5MmjZAWLUQvxriUsug7lKFysPutIpa8590q8YZr490GWbXeDQihKjhqcYdk7hkKgZcwaRF518qOa0xSvfPDmT6IOgs+5/qNbDf+y/n1evr7nCk9tolQNjzDzhGe9kBS9ina9e8pA8pBbBGWoQdB04t89/1O/w1cDnyilFU='"
      ]
     },
     "execution_count": 7,
     "metadata": {},
     "output_type": "execute_result"
    }
   ],
   "source": [
    "info['CHANNEL_ACCESS_TOKEN']"
   ]
  },
  {
   "cell_type": "code",
   "execution_count": 8,
   "metadata": {
    "id": "FKtMxgSl56QD"
   },
   "outputs": [],
   "source": [
    "CHANNEL_ACCESS_TOKEN = info['CHANNEL_ACCESS_TOKEN']\n",
    "line_bot_api = LineBotApi(CHANNEL_ACCESS_TOKEN)"
   ]
  },
  {
   "cell_type": "code",
   "execution_count": 8,
   "metadata": {
    "id": "BAuxUp9cyeFp"
   },
   "outputs": [],
   "source": [
    "def main():\n",
    "  USER_ID = info['USER_ID']\n",
    "  messages=TextSendMessage(text=\"おはよう\")\n",
    "  line_bot_api.push_message(USER_ID , messages=messages)"
   ]
  },
  {
   "cell_type": "code",
   "execution_count": 9,
   "metadata": {
    "id": "BeWbRSAVzZZj"
   },
   "outputs": [],
   "source": [
    "main()"
   ]
  },
  {
   "cell_type": "code",
   "execution_count": 10,
   "metadata": {
    "id": "VICAPVVn0pVG"
   },
   "outputs": [
    {
     "ename": "ModuleNotFoundError",
     "evalue": "No module named 'scrape'",
     "output_type": "error",
     "traceback": [
      "\u001b[1;31m---------------------------------------------------------------------------\u001b[0m",
      "\u001b[1;31mModuleNotFoundError\u001b[0m                       Traceback (most recent call last)",
      "Input \u001b[1;32mIn [10]\u001b[0m, in \u001b[0;36m<cell line: 5>\u001b[1;34m()\u001b[0m\n\u001b[0;32m      3\u001b[0m \u001b[38;5;28;01mimport\u001b[39;00m \u001b[38;5;21;01msys\u001b[39;00m\n\u001b[0;32m      4\u001b[0m \u001b[38;5;28;01mimport\u001b[39;00m \u001b[38;5;21;01mjson\u001b[39;00m\n\u001b[1;32m----> 5\u001b[0m \u001b[38;5;28;01mimport\u001b[39;00m \u001b[38;5;21;01mscrape\u001b[39;00m \u001b[38;5;28;01mas\u001b[39;00m \u001b[38;5;21;01msc\u001b[39;00m\n\u001b[0;32m      6\u001b[0m \u001b[38;5;28;01mfrom\u001b[39;00m \u001b[38;5;21;01margparse\u001b[39;00m \u001b[38;5;28;01mimport\u001b[39;00m ArgumentParser\n\u001b[0;32m      8\u001b[0m \u001b[38;5;28;01mfrom\u001b[39;00m \u001b[38;5;21;01mflask\u001b[39;00m \u001b[38;5;28;01mimport\u001b[39;00m Flask, request, abort\n",
      "\u001b[1;31mModuleNotFoundError\u001b[0m: No module named 'scrape'"
     ]
    }
   ],
   "source": [
    "import urllib.request\n",
    "import os\n",
    "import sys\n",
    "import json\n",
    "import scrape as sc\n",
    "from argparse import ArgumentParser\n",
    "\n",
    "from flask import Flask, request, abort\n",
    "from linebot import (\n",
    "    LineBotApi, WebhookHandler\n",
    ")\n",
    "from linebot.exceptions import (\n",
    "    InvalidSignatureError\n",
    ")\n",
    "from linebot.models import (\n",
    "    MessageEvent, TextMessage, TextSendMessage,\n",
    ")\n",
    "\n",
    "app = Flask(__name__)\n",
    "\n",
    "channel_secret = os.getenv('LINE_CHANNEL_SECRET', None)\n",
    "channel_access_token = os.getenv('LINE_CHANNEL_ACCESS_TOKEN', None)\n",
    "if channel_secret is None:\n",
    "    print('Specify LINE_CHANNEL_SECRET as environment variable.')\n",
    "    sys.exit(1)\n",
    "if channel_access_token is None:\n",
    "    print('Specify LINE_CHANNEL_ACCESS_TOKEN as environment variable.')\n",
    "    sys.exit(1)\n",
    "\n",
    "line_bot_api = LineBotApi(channel_access_token)\n",
    "handler = WebhookHandler(channel_secret)\n",
    "\n",
    "\n",
    "@app.route(\"/callback\", methods=['POST'])\n",
    "def callback():\n",
    "    signature = request.headers['X-Line-Signature']\n",
    "\n",
    "    body = request.get_data(as_text=True)\n",
    "    app.logger.info(\"Request body: \" + body)\n",
    "\n",
    "\n",
    "    try:\n",
    "        handler.handle(body, signature)\n",
    "    except InvalidSignatureError:\n",
    "        abort(400)\n",
    "\n",
    "    return 'OK'\n",
    "\n",
    "@handler.add(MessageEvent, message=TextMessage)\n",
    "def handle_message(event):\n",
    "\n",
    "    word = event.message.text\n",
    "    result = sc.getNews(word)\n",
    "\n",
    "    line_bot_api.reply_message(\n",
    "    event.reply_token,\n",
    "    TextSendMessage(text=result)\n",
    "    )\n",
    "\n",
    "if __name__ == \"__main__\":\n",
    "    port = int(os.getenv(\"PORT\", 8000))\n",
    "    app.run(host=\"0.0.0.0\", port=port)"
   ]
  },
  {
   "cell_type": "code",
   "execution_count": null,
   "metadata": {},
   "outputs": [],
   "source": []
  }
 ],
 "metadata": {
  "colab": {
   "collapsed_sections": [],
   "name": "line_bot1.ipynb",
   "provenance": []
  },
  "kernelspec": {
   "display_name": "Python 3",
   "language": "python",
   "name": "python3"
  },
  "language_info": {
   "codemirror_mode": {
    "name": "ipython",
    "version": 3
   },
   "file_extension": ".py",
   "mimetype": "text/x-python",
   "name": "python",
   "nbconvert_exporter": "python",
   "pygments_lexer": "ipython3",
   "version": "3.8.8"
  }
 },
 "nbformat": 4,
 "nbformat_minor": 4
}
