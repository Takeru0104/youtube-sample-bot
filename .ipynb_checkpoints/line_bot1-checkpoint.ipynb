{
 "cells": [
  {
   "cell_type": "code",
   "execution_count": 1,
   "metadata": {
    "colab": {
     "base_uri": "https://localhost:8080/"
    },
    "id": "j248F1WLu--I",
    "outputId": "35f52c81-fcaf-46e6-9b11-09ef8e5570ad"
   },
   "outputs": [
    {
     "name": "stdout",
     "output_type": "stream",
     "text": [
      "Requirement already satisfied: line-bot-sdk in c:\\users\\tasat\\appdata\\local\\programs\\python\\python310\\lib\\site-packages (2.1.0)\n",
      "Requirement already satisfied: aiohttp>=3.7.4 in c:\\users\\tasat\\appdata\\local\\programs\\python\\python310\\lib\\site-packages (from line-bot-sdk) (3.8.1)\n",
      "Requirement already satisfied: requests>=2.0 in c:\\users\\tasat\\appdata\\local\\programs\\python\\python310\\lib\\site-packages (from line-bot-sdk) (2.27.1)\n",
      "Requirement already satisfied: future in c:\\users\\tasat\\appdata\\local\\programs\\python\\python310\\lib\\site-packages (from line-bot-sdk) (0.18.2)\n",
      "Requirement already satisfied: multidict<7.0,>=4.5 in c:\\users\\tasat\\appdata\\local\\programs\\python\\python310\\lib\\site-packages (from aiohttp>=3.7.4->line-bot-sdk) (6.0.2)\n",
      "Requirement already satisfied: async-timeout<5.0,>=4.0.0a3 in c:\\users\\tasat\\appdata\\local\\programs\\python\\python310\\lib\\site-packages (from aiohttp>=3.7.4->line-bot-sdk) (4.0.2)\n",
      "Requirement already satisfied: charset-normalizer<3.0,>=2.0 in c:\\users\\tasat\\appdata\\local\\programs\\python\\python310\\lib\\site-packages (from aiohttp>=3.7.4->line-bot-sdk) (2.0.12)\n",
      "Requirement already satisfied: yarl<2.0,>=1.0 in c:\\users\\tasat\\appdata\\local\\programs\\python\\python310\\lib\\site-packages (from aiohttp>=3.7.4->line-bot-sdk) (1.7.2)\n",
      "Requirement already satisfied: frozenlist>=1.1.1 in c:\\users\\tasat\\appdata\\local\\programs\\python\\python310\\lib\\site-packages (from aiohttp>=3.7.4->line-bot-sdk) (1.3.0)\n",
      "Requirement already satisfied: attrs>=17.3.0 in c:\\users\\tasat\\appdata\\local\\programs\\python\\python310\\lib\\site-packages (from aiohttp>=3.7.4->line-bot-sdk) (21.4.0)\n",
      "Requirement already satisfied: aiosignal>=1.1.2 in c:\\users\\tasat\\appdata\\local\\programs\\python\\python310\\lib\\site-packages (from aiohttp>=3.7.4->line-bot-sdk) (1.2.0)\n",
      "Requirement already satisfied: urllib3<1.27,>=1.21.1 in c:\\users\\tasat\\appdata\\local\\programs\\python\\python310\\lib\\site-packages (from requests>=2.0->line-bot-sdk) (1.26.8)\n",
      "Requirement already satisfied: idna<4,>=2.5 in c:\\users\\tasat\\appdata\\local\\programs\\python\\python310\\lib\\site-packages (from requests>=2.0->line-bot-sdk) (3.3)\n",
      "Requirement already satisfied: certifi>=2017.4.17 in c:\\users\\tasat\\appdata\\local\\programs\\python\\python310\\lib\\site-packages (from requests>=2.0->line-bot-sdk) (2021.10.8)\n"
     ]
    }
   ],
   "source": [
    "!pip install line-bot-sdk"
   ]
  },
  {
   "cell_type": "code",
   "execution_count": 2,
   "metadata": {
    "id": "ydDC1W24xOBz"
   },
   "outputs": [],
   "source": [
    "from linebot import LineBotApi\n",
    "from linebot.models import TextSendMessage"
   ]
  },
  {
   "cell_type": "code",
   "execution_count": 3,
   "metadata": {
    "colab": {
     "base_uri": "https://localhost:8080/"
    },
    "id": "Oy-l7R4j6ers",
    "outputId": "e754fd09-29ce-4269-8c82-6bc32b8325c3"
   },
   "outputs": [
    {
     "name": "stdout",
     "output_type": "stream",
     "text": [
      " ドライブ C のボリューム ラベルは Windows です\n",
      " ボリューム シリアル番号は 0CB1-0C7C です\n",
      "\n",
      " C:\\Users\\tasat\\line_bot1 のディレクトリ\n",
      "\n",
      "2022/03/13  12:56    <DIR>          .\n",
      "2022/03/13  12:51    <DIR>          ..\n",
      "2022/03/13  12:54    <DIR>          .ipynb_checkpoints\n",
      "2022/03/13  12:53               263 info.json\n",
      "2022/03/13  12:56             7,421 line_bot1.ipynb\n",
      "               2 個のファイル               7,684 バイト\n",
      "               3 個のディレクトリ  81,115,279,360 バイトの空き領域\n"
     ]
    }
   ],
   "source": [
    "ls"
   ]
  },
  {
   "cell_type": "code",
   "execution_count": 4,
   "metadata": {
    "id": "yIv3WlHj4e2k"
   },
   "outputs": [],
   "source": [
    "import json"
   ]
  },
  {
   "cell_type": "code",
   "execution_count": 5,
   "metadata": {
    "id": "dQXwENDR4nT2"
   },
   "outputs": [],
   "source": [
    "file = open('info.json' , 'r')\n",
    "info = json.load(file)"
   ]
  },
  {
   "cell_type": "code",
   "execution_count": 6,
   "metadata": {
    "colab": {
     "base_uri": "https://localhost:8080/",
     "height": 53
    },
    "id": "kOhwQ0NG8RxM",
    "outputId": "444febca-cc60-430e-9b27-16882ce313ff"
   },
   "outputs": [
    {
     "data": {
      "text/plain": [
       "'kOVMa5MmjZAWLUQvxriUsug7lKFysPutIpa8590q8YZr490GWbXeDQihKjhqcYdk7hkKgZcwaRF518qOa0xSvfPDmT6IOgs+5/qNbDf+y/n1evr7nCk9tolQNjzDzhGe9kBS9ina9e8pA8pBbBGWoQdB04t89/1O/w1cDnyilFU='"
      ]
     },
     "execution_count": 6,
     "metadata": {},
     "output_type": "execute_result"
    }
   ],
   "source": [
    "info['CHANNEL_ACCESS_TOKEN']"
   ]
  },
  {
   "cell_type": "code",
   "execution_count": 7,
   "metadata": {
    "id": "FKtMxgSl56QD"
   },
   "outputs": [],
   "source": [
    "CHANNEL_ACCESS_TOKEN = info['CHANNEL_ACCESS_TOKEN']\n",
    "line_bot_api = LineBotApi(CHANNEL_ACCESS_TOKEN)"
   ]
  },
  {
   "cell_type": "code",
   "execution_count": 8,
   "metadata": {
    "id": "BAuxUp9cyeFp"
   },
   "outputs": [],
   "source": [
    "def main():\n",
    "  USER_ID = info['USER_ID']\n",
    "  messages=TextSendMessage(text=\"おはよう\")\n",
    "  line_bot_api.push_message(USER_ID , messages=messages)"
   ]
  },
  {
   "cell_type": "code",
   "execution_count": 9,
   "metadata": {
    "id": "BeWbRSAVzZZj"
   },
   "outputs": [],
   "source": [
    "main()"
   ]
  },
  {
   "cell_type": "code",
   "execution_count": null,
   "metadata": {
    "id": "VICAPVVn0pVG"
   },
   "outputs": [],
   "source": [
    "import config   # 先ほど作成したconfig.pyをインポート\n",
    "from flask import Flask, request, abort\n",
    "\n",
    "from linebot import (\n",
    "    LineBotApi, WebhookHandler\n",
    ")\n",
    "from linebot.exceptions import (\n",
    "    InvalidSignatureError\n",
    ")\n",
    "from linebot.models import (\n",
    "    MessageEvent, TextMessage, TextSendMessage,\n",
    ")\n",
    "\n",
    "app = Flask(__name__)\n",
    "\n",
    "line_bot_api = LineBotApi(config.LINE_CHANNEL_ACCESS_TOKEN)    # config.pyで設定したチャネルアクセストークン\n",
    "handler = WebhookHandler(config.LINE_CHANNEL_SECRET)    # config.pyで設定したチャネルシークレット\n",
    "\n",
    "\n",
    "@app.route(\"/callback\", methods=['POST'])\n",
    "def callback():\n",
    "    # get X-Line-Signature header value\n",
    "    signature = request.headers['X-Line-Signature']\n",
    "\n",
    "    # get request body as text\n",
    "    body = request.get_data(as_text=True)\n",
    "    app.logger.info(\"Request body: \" + body)\n",
    "\n",
    "    # handle webhook body\n",
    "    try:\n",
    "        handler.handle(body, signature)\n",
    "    except InvalidSignatureError:\n",
    "        print(\"Invalid signature. Please check your channel access token/channel secret.\")\n",
    "        abort(400)\n",
    "\n",
    "    return 'OK'\n",
    "\n",
    "\n",
    "@handler.add(MessageEvent, message=TextMessage)\n",
    "def handle_message(event):\n",
    "    if event.reply_token == \"00000000000000000000000000000000\":\n",
    "        return\n",
    "\n",
    "    line_bot_api.reply_message(\n",
    "        event.reply_token,\n",
    "        TextSendMessage(text=event.message.text)\n",
    "    )\n",
    "\n",
    "if __name__ == \"__main__\":\n",
    "    app.run(host=\"localhost\", port=8000)   # ポート番号を8000に指定\n",
    "1\n",
    "2\n",
    "3\n",
    "4\n",
    "5\n",
    "6\n",
    "7\n",
    "8\n",
    "9\n",
    "10\n",
    "11\n",
    "12\n",
    "13\n",
    "14\n",
    "15\n",
    "16\n",
    "17\n",
    "18\n",
    "19\n",
    "20\n",
    "21\n",
    "22\n",
    "23\n",
    "24\n",
    "25\n",
    "26\n",
    "27\n",
    "28\n",
    "29\n",
    "30\n",
    "31\n",
    "32\n",
    "33\n",
    "34\n",
    "35\n",
    "36\n",
    "37\n",
    "38\n",
    "39\n",
    "40\n",
    "41\n",
    "42\n",
    "43\n",
    "44\n",
    "45\n",
    "46\n",
    "47\n",
    "48\n",
    "49\n",
    "50\n",
    "import config   # 先ほど作成したconfig.pyをインポート\n",
    "from flask import Flask, request, abort\n",
    " \n",
    "from linebot import (\n",
    "    LineBotApi, WebhookHandler\n",
    ")\n",
    "from linebot.exceptions import (\n",
    "    InvalidSignatureError\n",
    ")\n",
    "from linebot.models import (\n",
    "    MessageEvent, TextMessage, TextSendMessage,\n",
    ")\n",
    " \n",
    "app = Flask(__name__)\n",
    " \n",
    "line_bot_api = LineBotApi(config.LINE_CHANNEL_ACCESS_TOKEN)    # config.pyで設定したチャネルアクセストークン\n",
    "handler = WebhookHandler(config.LINE_CHANNEL_SECRET)    # config.pyで設定したチャネルシークレット\n",
    " \n",
    " \n",
    "@app.route(\"/callback\", methods=['POST'])\n",
    "def callback():\n",
    "    # get X-Line-Signature header value\n",
    "    signature = request.headers['X-Line-Signature']\n",
    " \n",
    "    # get request body as text\n",
    "    body = request.get_data(as_text=True)\n",
    "    app.logger.info(\"Request body: \" + body)\n",
    " \n",
    "    # handle webhook body\n",
    "    try:\n",
    "        handler.handle(body, signature)\n",
    "    except InvalidSignatureError:\n",
    "        print(\"Invalid signature. Please check your channel access token/channel secret.\")\n",
    "        abort(400)\n",
    " \n",
    "    return 'OK'\n",
    " \n",
    " \n",
    "@handler.add(MessageEvent, message=TextMessage)\n",
    "def handle_message(event):\n",
    "    if event.reply_token == \"00000000000000000000000000000000\":\n",
    "        return\n",
    " \n",
    "    line_bot_api.reply_message(\n",
    "        event.reply_token,\n",
    "        TextSendMessage(text=event.message.text)\n",
    "    )\n",
    " \n",
    "if __name__ == \"__main__\":\n",
    "    app.run(host=\"localhost\", port=8000)   # ポート番号を8000に指定"
   ]
  }
 ],
 "metadata": {
  "colab": {
   "collapsed_sections": [],
   "name": "line_bot1.ipynb",
   "provenance": []
  },
  "kernelspec": {
   "display_name": "Python 3 (ipykernel)",
   "language": "python",
   "name": "python3"
  },
  "language_info": {
   "codemirror_mode": {
    "name": "ipython",
    "version": 3
   },
   "file_extension": ".py",
   "mimetype": "text/x-python",
   "name": "python",
   "nbconvert_exporter": "python",
   "pygments_lexer": "ipython3",
   "version": "3.10.2"
  }
 },
 "nbformat": 4,
 "nbformat_minor": 4
}
